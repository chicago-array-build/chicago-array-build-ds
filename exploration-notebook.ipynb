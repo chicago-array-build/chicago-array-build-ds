{
 "cells": [
  {
   "cell_type": "markdown",
   "metadata": {
    "colab_type": "text",
    "id": "view-in-github"
   },
   "source": [
    "## An Exploration of Chicago's Array of Things API (via python client)\n",
    "Array of Things has expanded in Chicago to include more than 100 continuous sensors across the city.\n",
    "\n",
    "**Resources**\n",
    "* [Home Page](https://arrayofthings.github.io)\n",
    "* [python client](https://github.com/UrbanCCD-UChicago/aot-client-py)\n",
    "* [API documentation](https://arrayofthings.docs.apiary.io)\n",
    "\n",
    "**TODOs**\n",
    "  * group measurements by larger cluster than sensor? by project?\n",
    "  * efficiently query regular interval of data, to annimate\n",
    "  * normalize measurements, choose reasonable circle radii and color\n",
    "    * map different sensors to different visualizations"
   ]
  },
  {
   "cell_type": "code",
   "execution_count": null,
   "metadata": {
    "colab": {
     "base_uri": "https://localhost:8080/",
     "height": 124
    },
    "colab_type": "code",
    "id": "OVaj2pkQlRfc",
    "outputId": "3345aa37-25d1-47be-fd7b-a03a0f939cff"
   },
   "outputs": [],
   "source": [
    " # !pip install aot-client"
   ]
  },
  {
   "cell_type": "code",
   "execution_count": null,
   "metadata": {
    "colab": {
     "base_uri": "https://localhost:8080/",
     "height": 195
    },
    "colab_type": "code",
    "id": "2uM31zhplerO",
    "outputId": "e8240aaf-98d5-46c9-a338-bc6773b0844b"
   },
   "outputs": [],
   "source": [
    "from aot_client import AotClient\n",
    "\n",
    "client = AotClient()\n",
    "\n",
    "# What are the methods/properties of the client?\n",
    "[_ for _ in dir(client) if not _.startswith('_')]"
   ]
  },
  {
   "cell_type": "markdown",
   "metadata": {
    "colab_type": "text",
    "id": "3v5xgh70adv0"
   },
   "source": [
    "It appears results will be paginated and we can also pass a filter. From the docs website I see that users may pass a timestamp filter in ISO 8601 format. Let's get measurements from the past 15 minutes."
   ]
  },
  {
   "cell_type": "code",
   "execution_count": null,
   "metadata": {},
   "outputs": [],
   "source": [
    "import datetime\n",
    "t = (datetime.datetime.now() - \n",
    "     datetime.timedelta(days=7))\n",
    "t = t.strftime(r'%m/%d/%Y')\n",
    "t"
   ]
  },
  {
   "cell_type": "code",
   "execution_count": null,
   "metadata": {
    "colab": {
     "base_uri": "https://localhost:8080/",
     "height": 229
    },
    "colab_type": "code",
    "id": "BiGuGsktmVKH",
    "outputId": "78887512-ba5a-4e69-9e70-a36c665ec56c"
   },
   "outputs": [],
   "source": [
    "import datetime\n",
    "\n",
    "import pandas as pd\n",
    "from aot_client import AotClient\n",
    "from aot_client import F\n",
    "\n",
    "\n",
    "def time_x_mins_ago(minutes:int):\n",
    "    '''Get formatted time to pass to API filter, relative to current time\n",
    "    '''\n",
    "    t = (datetime.datetime.now() - \n",
    "         datetime.timedelta(minutes=minutes) + \n",
    "         datetime.timedelta(hours=5))  # convert timezone from central to UTC\n",
    "    t = t.isoformat()\n",
    "    \n",
    "    return t[0:19]\n",
    "\n",
    "\n",
    "def unpack_response(response, page_limit=1000):\n",
    "    try:\n",
    "        pages = []\n",
    "        for i, page in enumerate(response):\n",
    "            if i + 1 > page_limit:\n",
    "                break\n",
    "            pages.extend(page.data)\n",
    "    except HTTPError as e:\n",
    "        print(e)    \n",
    "    finally:\n",
    "        return pages\n",
    "\n",
    "\n",
    "def process_observations(obs_df):\n",
    "    obs_df = obs_df.copy()\n",
    "    obs_df['timestamp'] = pd.to_datetime(obs_df['timestamp'], utc=True)\n",
    "    obs_df['timestamp'] = obs_df['timestamp'].dt.tz_convert('US/Central')\n",
    "    \n",
    "    # extract lat/lon to columns\n",
    "    obs_df['coords'] = obs_df['location'].apply(\n",
    "        lambda x: x['geometry']['coordinates'])\n",
    "    obs_df[['lon', 'lat']] = pd.DataFrame(\n",
    "        obs_df['coords'].tolist(), columns=['lon', 'lat'])\n",
    "    obs_df = obs_df.drop(columns=['coords'])\n",
    "    \n",
    "    # fix positive lon values\n",
    "    mask = obs_df['lon'] > 0\n",
    "    if sum(mask) > 0:\n",
    "        print(f'fixed {sum(mask)} rows with positive lon value')\n",
    "        obs_df.loc[mask, 'lon'] = obs_df.loc[mask, 'lon'] * -1\n",
    "\n",
    "    # remove lat/lon values at 0\n",
    "    mask = (obs_df['lon'] != 0) & (obs_df['lat'] != 0)\n",
    "    if len(obs_df) - sum(mask) > 0:\n",
    "        print(f'removed {len(obs_df) - sum(mask)} rows with lat/lon at 0')\n",
    "        obs_df = obs_df.loc[mask]\n",
    "\n",
    "    # remove lat values less than 40 degrees\n",
    "    mask = (obs_df['lat'] > 40)\n",
    "    if len(obs_df) - sum(mask) > 0:\n",
    "        print(f'removed {len(obs_df) - sum(mask)} '\n",
    "              'rows with lat/lon outside Chicago region')\n",
    "        obs_df = obs_df.loc[mask]\n",
    "    \n",
    "    return obs_df"
   ]
  },
  {
   "cell_type": "code",
   "execution_count": null,
   "metadata": {
    "colab": {
     "base_uri": "https://localhost:8080/",
     "height": 229
    },
    "colab_type": "code",
    "id": "BiGuGsktmVKH",
    "outputId": "78887512-ba5a-4e69-9e70-a36c665ec56c"
   },
   "outputs": [],
   "source": [
    "client = AotClient()\n",
    "\n",
    "# create filter\n",
    "f = F('size', '90000')\n",
    "f &= ('timestamp', 'ge', time_x_mins_ago(5))\n",
    "# f &= ('sensor', 'image.image_detector.person_total')\n",
    "# f &= ('time_bucket', 'avg:1 hour')\n",
    "# f &= ('sensor', 'image.image_detector.car_total')\n",
    "# f &= ('sensor', 'metsense.tsys01.temperature')\n",
    "\n",
    "response = client.list_observations(filters=f)\n",
    "print(response.current_link)\n",
    "pages = unpack_response(response, page_limit=1)\n",
    "print(len(pages))\n",
    "obs_df = pd.DataFrame(pages)\n",
    "# obs_df = process_observations(obs_df)\n",
    "print(f\"shape: {obs_df.shape}\")\n",
    "obs_df.head()"
   ]
  },
  {
   "cell_type": "code",
   "execution_count": null,
   "metadata": {},
   "outputs": [],
   "source": [
    "len(obs_df['node_vsn'].unique())"
   ]
  },
  {
   "cell_type": "code",
   "execution_count": null,
   "metadata": {},
   "outputs": [],
   "source": [
    "obs_df.groupby('node_vsn')['sensor_path'].nunique()"
   ]
  },
  {
   "cell_type": "code",
   "execution_count": null,
   "metadata": {},
   "outputs": [],
   "source": [
    "import folium\n",
    "import folium.plugins\n",
    "\n",
    "def map(df):\n",
    "    m = folium.Map(location=[df['lat'].mean(), \n",
    "                             df['lon'].mean()],\n",
    "                   tiles='CartoDB dark_matter',\n",
    "                   zoom_start=10)\n",
    "\n",
    "    for i, r in df.iterrows():\n",
    "        folium.CircleMarker(\n",
    "            location=(r['lat'], r['lon']),              \n",
    "#             radius=3,\n",
    "#             color=r['color'],\n",
    "#             weight=0.5,\n",
    "            tooltip=f\"{r['timestamp']}<br>{r['value']} {r['uom']}\",\n",
    "#             popup=folium.Popup(f\"{r['value']} {r['uom']}\", max_width=500),\n",
    "            fill=True\n",
    "        ).add_to(m)\n",
    "\n",
    "    folium.plugins.Fullscreen(\n",
    "        position='topright',\n",
    "        force_separate_button=True\n",
    "    ).add_to(m)\n",
    "\n",
    "    return m"
   ]
  },
  {
   "cell_type": "code",
   "execution_count": null,
   "metadata": {},
   "outputs": [],
   "source": [
    "response.current_link"
   ]
  },
  {
   "cell_type": "code",
   "execution_count": null,
   "metadata": {},
   "outputs": [],
   "source": [
    "len(sensors_df['path'].unique())"
   ]
  },
  {
   "cell_type": "code",
   "execution_count": null,
   "metadata": {},
   "outputs": [],
   "source": [
    "obs_df.head()"
   ]
  },
  {
   "cell_type": "code",
   "execution_count": null,
   "metadata": {
    "scrolled": false
   },
   "outputs": [],
   "source": [
    "import ipywidgets as widgets\n",
    "from ipywidgets import interact, interact_manual\n",
    "\n",
    "sensors = client.list_sensors()\n",
    "sensors_df = pd.DataFrame(sensors.data)\n",
    "sensors_df.head()\n",
    "\n",
    "@interact_manual\n",
    "def choose_sensor(sensor=sensors_df['path'].unique()):\n",
    "    client = AotClient()\n",
    "    f = F('sensor', sensor)\n",
    "\n",
    "    response = client.list_observations(filters=f)\n",
    "    print('API call:', response.current_link)\n",
    "    pages = unpack_response(response, page_limit=5)\n",
    "    \n",
    "    if not pages:\n",
    "        print('No data found.')\n",
    "        return None\n",
    "    \n",
    "    obs_df = pd.DataFrame(pages)\n",
    "    obs_df = process_observations(obs_df)\n",
    "    print(obs_df.shape)\n",
    "    \n",
    "    return map(obs_df.drop_duplicates(['lon', 'lat']))"
   ]
  },
  {
   "cell_type": "markdown",
   "metadata": {
    "colab_type": "text",
    "id": "lE_CRluuy6yE"
   },
   "source": [
    "### Plotly"
   ]
  },
  {
   "cell_type": "code",
   "execution_count": null,
   "metadata": {
    "colab": {
     "base_uri": "https://localhost:8080/",
     "height": 402
    },
    "colab_type": "code",
    "id": "fVUKcwzuX01N",
    "outputId": "03e0e428-11fa-4c69-f36c-fd6cecf85d11"
   },
   "outputs": [],
   "source": [
    "# initial configuration\n",
    "import plotly\n",
    "from os import getenv\n",
    "from dotenv import load_dotenv\n",
    "\n",
    "load_dotenv()\n",
    "\n",
    "plotly.tools.set_credentials_file(\n",
    "    username=getenv('PLOTLY_USER'), \n",
    "    api_key=getenv('PLOTLY_API_KEY')\n",
    ")"
   ]
  },
  {
   "cell_type": "code",
   "execution_count": null,
   "metadata": {},
   "outputs": [],
   "source": [
    "# exploring plots\n",
    "import plotly.plotly as py\n",
    "import plotly.graph_objs as go\n",
    "\n",
    "trace0 = go.Scatter(\n",
    "    x=[1, 2, 3, 4],\n",
    "    y=[10, 15, 13, 17]\n",
    ")\n",
    "trace1 = go.Scatter(\n",
    "    x=[1, 2, 3, 4],\n",
    "    y=[16, 5, 11, 9]\n",
    ")\n",
    "data = [trace0, trace1]\n",
    "\n",
    "plot_url = py.plot(data, filename = 'basic-line', auto_open=False)\n",
    "print(plot_url)"
   ]
  },
  {
   "cell_type": "code",
   "execution_count": null,
   "metadata": {},
   "outputs": [],
   "source": [
    "import pandas as pd\n",
    "\n",
    "df = pd.read_csv('data/query_Environmental_Temperature.csv')"
   ]
  },
  {
   "cell_type": "code",
   "execution_count": null,
   "metadata": {
    "scrolled": false
   },
   "outputs": [],
   "source": [
    "from app.plotting import make_map, make_line_plot, make_hourly_bar_plot\n",
    "\n",
    "print(make_map(df))\n",
    "print(make_line_plot(df, 'Temperature'))\n",
    "print(make_hourly_bar_plot(df, 'Temperature'))"
   ]
  },
  {
   "cell_type": "code",
   "execution_count": null,
   "metadata": {},
   "outputs": [],
   "source": [
    "import pandas as pd\n",
    "\n",
    "SENSOR_DF = pd.read_csv('data/sensor_mapping.csv')\n",
    "\n",
    "def query_aot(sensor_hrf, size_per_page=100000, page_limit=1, mins_ago=12*60):\n",
    "    sensor = SENSOR_DF.loc[SENSOR_DF['sensor_measure']==sensor_hrf, \n",
    "                           'sensor_path'].values[0]\n",
    "\n",
    "    client = AotClient()\n",
    "\n",
    "    f = F('size', str(size_per_page))\n",
    "    f &= ('sensor', sensor)\n",
    "    f &= ('timestamp', 'ge', time_x_mins_ago(mins_ago))\n",
    "\n",
    "    response = client.list_observations(filters=f)\n",
    "    pages = unpack_response(response, page_limit=page_limit)\n",
    "    obs_df = pd.DataFrame(pages)\n",
    "    obs_df = process_observations(obs_df)\n",
    "    \n",
    "    return obs_df"
   ]
  },
  {
   "cell_type": "code",
   "execution_count": null,
   "metadata": {
    "scrolled": true
   },
   "outputs": [],
   "source": [
    "df = query_aot('Carbon Monoxide')"
   ]
  },
  {
   "cell_type": "markdown",
   "metadata": {},
   "source": [
    "## Import data from AoT Archive"
   ]
  },
  {
   "cell_type": "code",
   "execution_count": null,
   "metadata": {},
   "outputs": [],
   "source": [
    "import pandas as pd\n",
    "\n",
    "from app.aot import (\n",
    "    load_aot_archive_day, \n",
    "    clean_aot_archive_obs, \n",
    "    get_nodes, get_sensors\n",
    ")"
   ]
  },
  {
   "cell_type": "code",
   "execution_count": null,
   "metadata": {},
   "outputs": [],
   "source": [
    "date = '2019-05-23'\n",
    "df = load_aot_archive_day(day=date)\n",
    "df = clean_aot_archive_obs(df)"
   ]
  },
  {
   "cell_type": "markdown",
   "metadata": {},
   "source": [
    "## Publish data to production database"
   ]
  },
  {
   "cell_type": "code",
   "execution_count": null,
   "metadata": {},
   "outputs": [],
   "source": [
    "from os import getenv\n",
    "\n",
    "from dotenv import load_dotenv\n",
    "import pandas as pd\n",
    "import sqlalchemy\n",
    "\n",
    "load_dotenv()"
   ]
  },
  {
   "cell_type": "markdown",
   "metadata": {},
   "source": [
    "#### Method 1 - too slow and blows up in RAM"
   ]
  },
  {
   "cell_type": "code",
   "execution_count": null,
   "metadata": {},
   "outputs": [],
   "source": [
    "engine = sqlalchemy.create_engine(getenv(\"HEROKU_DB_URL\"))"
   ]
  },
  {
   "cell_type": "code",
   "execution_count": null,
   "metadata": {},
   "outputs": [],
   "source": [
    "engine.execute(\"SELECT * FROM observation\").fetchone()"
   ]
  },
  {
   "cell_type": "code",
   "execution_count": null,
   "metadata": {},
   "outputs": [],
   "source": [
    "engine.execute(\"SELECT * FROM node\").fetchone()"
   ]
  },
  {
   "cell_type": "code",
   "execution_count": null,
   "metadata": {},
   "outputs": [],
   "source": [
    "engine.execute(\"SELECT * FROM sensor\").fetchone()"
   ]
  },
  {
   "cell_type": "code",
   "execution_count": null,
   "metadata": {},
   "outputs": [],
   "source": [
    "# filter df to the sensors we care about\n",
    "sensors = engine.execute(\"SELECT sensor.sensor_path FROM sensor\").fetchall()\n",
    "df = df.loc[df['sensor_path'].isin([t[0] for t in sensors])]\n",
    "\n",
    "max_id = engine.execute(\"SELECT max(observation.id) FROM observation\").fetchone()[0]\n",
    "\n",
    "if not max_id:\n",
    "    max_id = 0\n",
    "\n",
    "df['id'] = list(range(max_id + 1, max_id + len(df) + 1))"
   ]
  },
  {
   "cell_type": "code",
   "execution_count": null,
   "metadata": {},
   "outputs": [],
   "source": [
    "df.to_sql(\n",
    "    'observation', con=engine, if_exists='append', \n",
    "    index=False, chunksize=1000\n",
    ")"
   ]
  },
  {
   "cell_type": "markdown",
   "metadata": {},
   "source": [
    "#### Method 2"
   ]
  },
  {
   "cell_type": "code",
   "execution_count": null,
   "metadata": {},
   "outputs": [],
   "source": [
    "from urllib.parse import urlparse\n",
    "import psycopg2\n",
    "import os\n",
    "\n",
    "def upload_df_to_db(df, table_name):\n",
    "    result = urlparse(os.getenv(\"HEROKU_DB_URL\"))\n",
    "    username = result.username\n",
    "    password = result.password\n",
    "    database = result.path[1:]\n",
    "    hostname = result.hostname\n",
    "    conn = psycopg2.connect(\n",
    "        database = database,\n",
    "        user = username,\n",
    "        password = password,\n",
    "        host = hostname\n",
    "    )\n",
    "    \n",
    "    cur = conn.cursor()\n",
    "\n",
    "    # get column names and order\n",
    "    cur.execute(f\"SELECT * FROM {table_name}\")\n",
    "    cols = [desc[0] for desc in cur.description]\n",
    "\n",
    "    csv_path = 'to_upload.csv'\n",
    "    df[cols].to_csv(csv_path, index=False)\n",
    "\n",
    "    with open(csv_path, 'r') as f:\n",
    "        next(f) # Skip the header row.\n",
    "        cur.copy_from(f, table_name, sep=',')\n",
    "        conn.commit()\n",
    "    \n",
    "    os.remove(csv_path)\n",
    "    \n",
    "    cur.close()\n",
    "    conn.close()"
   ]
  }
 ],
 "metadata": {
  "colab": {
   "include_colab_link": true,
   "name": "WalkieTalkie ",
   "provenance": [],
   "version": "0.3.2"
  },
  "kernelspec": {
   "display_name": "chicago-aot-env",
   "language": "python",
   "name": "chicago-aot-env"
  },
  "language_info": {
   "codemirror_mode": {
    "name": "ipython",
    "version": 3
   },
   "file_extension": ".py",
   "mimetype": "text/x-python",
   "name": "python",
   "nbconvert_exporter": "python",
   "pygments_lexer": "ipython3",
   "version": "3.6.4"
  }
 },
 "nbformat": 4,
 "nbformat_minor": 1
}
