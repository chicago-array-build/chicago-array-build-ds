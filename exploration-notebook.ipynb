{
 "cells": [
  {
   "cell_type": "markdown",
   "metadata": {
    "colab_type": "text",
    "id": "view-in-github"
   },
   "source": [
    "## An Exploration of Chicago's Array of Things API (via python client)\n",
    "Array of Things has expanded in Chicago to include more than 100 continuous sensors across the city.\n",
    "\n",
    "**Resources**\n",
    "* [Home Page](https://arrayofthings.github.io)\n",
    "* [python client](https://github.com/UrbanCCD-UChicago/aot-client-py)\n",
    "* [API documentation](https://arrayofthings.docs.apiary.io)\n",
    "\n",
    "**TODOs**\n",
    "  * group measurements by larger cluster than sensor? by project?\n",
    "  * efficiently query regular interval of data, to annimate\n",
    "  * normalize measurements, choose reasonable circle radii and color\n",
    "    * map different sensors to different visualizations"
   ]
  },
  {
   "cell_type": "code",
   "execution_count": null,
   "metadata": {
    "colab": {
     "base_uri": "https://localhost:8080/",
     "height": 124
    },
    "colab_type": "code",
    "id": "OVaj2pkQlRfc",
    "outputId": "3345aa37-25d1-47be-fd7b-a03a0f939cff"
   },
   "outputs": [],
   "source": [
    " # !pip install aot-client"
   ]
  },
  {
   "cell_type": "code",
   "execution_count": null,
   "metadata": {
    "colab": {
     "base_uri": "https://localhost:8080/",
     "height": 195
    },
    "colab_type": "code",
    "id": "2uM31zhplerO",
    "outputId": "e8240aaf-98d5-46c9-a338-bc6773b0844b"
   },
   "outputs": [],
   "source": [
    "from aot_client import AotClient\n",
    "\n",
    "client = AotClient()\n",
    "\n",
    "# What are the methods/properties of the client?\n",
    "[_ for _ in dir(client) if not _.startswith('_')]"
   ]
  },
  {
   "cell_type": "markdown",
   "metadata": {
    "colab_type": "text",
    "id": "3v5xgh70adv0"
   },
   "source": [
    "It appears results will be paginated and we can also pass a filter. From the docs website I see that users may pass a timestamp filter in ISO 8601 format. Let's get measurements from the past 15 minutes."
   ]
  },
  {
   "cell_type": "code",
   "execution_count": null,
   "metadata": {
    "colab": {
     "base_uri": "https://localhost:8080/",
     "height": 229
    },
    "colab_type": "code",
    "id": "BiGuGsktmVKH",
    "outputId": "78887512-ba5a-4e69-9e70-a36c665ec56c"
   },
   "outputs": [],
   "source": [
    "import datetime\n",
    "\n",
    "import pandas as pd\n",
    "from aot_client import AotClient\n",
    "from aot_client import F\n",
    "\n",
    "\n",
    "def time_x_mins_ago(minutes:int):\n",
    "    '''Get formatted time to pass to API filter, relative to current time\n",
    "    '''\n",
    "    t = (datetime.datetime.now() - \n",
    "         datetime.timedelta(minutes=minutes) + \n",
    "         datetime.timedelta(hours=5))  # convert timezone from central to UTC\n",
    "    t = t.isoformat()\n",
    "    \n",
    "    return t[0:19]\n",
    "\n",
    "\n",
    "def unpack_response(response, page_limit=1000):\n",
    "    try:\n",
    "        pages = []\n",
    "        for i, page in enumerate(response):\n",
    "            if i + 1 > page_limit:\n",
    "                break\n",
    "            pages.extend(page.data)\n",
    "    except HTTPError as e:\n",
    "        print(e)    \n",
    "    finally:\n",
    "        return pages\n",
    "\n",
    "\n",
    "def process_observations(obs_df):\n",
    "    obs_df = obs_df.copy()\n",
    "    obs_df['timestamp'] = pd.to_datetime(obs_df['timestamp'], utc=True)\n",
    "    obs_df['timestamp'] = obs_df['timestamp'].dt.tz_convert('US/Central')\n",
    "    \n",
    "    # extract lat/lon to columns\n",
    "    obs_df['coords'] = obs_df['location'].apply(\n",
    "        lambda x: x['geometry']['coordinates'])\n",
    "    obs_df[['lon', 'lat']] = pd.DataFrame(\n",
    "        obs_df['coords'].tolist(), columns=['lon', 'lat'])\n",
    "    obs_df = obs_df.drop(columns=['coords'])\n",
    "    \n",
    "    # fix positive lon values\n",
    "    mask = obs_df['lon'] > 0\n",
    "    if sum(mask) > 0:\n",
    "        print(f'fixed {sum(mask)} rows with positive lon value')\n",
    "        obs_df.loc[mask, 'lon'] = obs_df.loc[mask, 'lon'] * -1\n",
    "\n",
    "    # remove lat/lon values at 0\n",
    "    mask = (obs_df['lon'] != 0) & (obs_df['lat'] != 0)\n",
    "    if len(obs_df) - sum(mask) > 0:\n",
    "        print(f'removed {len(obs_df) - sum(mask)} rows with lat/lon at 0')\n",
    "        obs_df = obs_df.loc[mask]\n",
    "\n",
    "    # remove lat values less than 40 degrees\n",
    "    mask = (obs_df['lat'] > 40)\n",
    "    if len(obs_df) - sum(mask) > 0:\n",
    "        print(f'removed {len(obs_df) - sum(mask)} '\n",
    "              'rows with lat/lon outside Chicago region')\n",
    "        obs_df = obs_df.loc[mask]\n",
    "    \n",
    "    return obs_df"
   ]
  },
  {
   "cell_type": "code",
   "execution_count": null,
   "metadata": {
    "colab": {
     "base_uri": "https://localhost:8080/",
     "height": 229
    },
    "colab_type": "code",
    "id": "BiGuGsktmVKH",
    "outputId": "78887512-ba5a-4e69-9e70-a36c665ec56c"
   },
   "outputs": [],
   "source": [
    "client = AotClient()\n",
    "\n",
    "# create filter\n",
    "f = F('size', '90000')\n",
    "f &= ('timestamp', 'ge', time_x_mins_ago(5))\n",
    "# f &= ('sensor', 'image.image_detector.person_total')\n",
    "# f &= ('time_bucket', 'avg:1 hour')\n",
    "# f &= ('sensor', 'image.image_detector.car_total')\n",
    "# f &= ('sensor', 'metsense.tsys01.temperature')\n",
    "\n",
    "response = client.list_observations(filters=f)\n",
    "print(response.current_link)\n",
    "pages = unpack_response(response, page_limit=1)\n",
    "print(len(pages))\n",
    "obs_df = pd.DataFrame(pages)\n",
    "# obs_df = process_observations(obs_df)\n",
    "print(f\"shape: {obs_df.shape}\")\n",
    "obs_df.head()"
   ]
  },
  {
   "cell_type": "code",
   "execution_count": null,
   "metadata": {},
   "outputs": [],
   "source": [
    "len(obs_df['node_vsn'].unique())"
   ]
  },
  {
   "cell_type": "code",
   "execution_count": null,
   "metadata": {},
   "outputs": [],
   "source": [
    "obs_df.groupby('node_vsn')['sensor_path'].nunique()"
   ]
  },
  {
   "cell_type": "code",
   "execution_count": null,
   "metadata": {},
   "outputs": [],
   "source": [
    "import folium\n",
    "import folium.plugins\n",
    "\n",
    "def map(df):\n",
    "    m = folium.Map(location=[df['lat'].mean(), \n",
    "                             df['lon'].mean()],\n",
    "                   tiles='CartoDB dark_matter',\n",
    "                   zoom_start=10)\n",
    "\n",
    "    for i, r in df.iterrows():\n",
    "        folium.CircleMarker(\n",
    "            location=(r['lat'], r['lon']),              \n",
    "#             radius=3,\n",
    "#             color=r['color'],\n",
    "#             weight=0.5,\n",
    "            tooltip=f\"{r['timestamp']}<br>{r['value']} {r['uom']}\",\n",
    "#             popup=folium.Popup(f\"{r['value']} {r['uom']}\", max_width=500),\n",
    "            fill=True\n",
    "        ).add_to(m)\n",
    "\n",
    "    folium.plugins.Fullscreen(\n",
    "        position='topright',\n",
    "        force_separate_button=True\n",
    "    ).add_to(m)\n",
    "\n",
    "    return m"
   ]
  },
  {
   "cell_type": "code",
   "execution_count": null,
   "metadata": {},
   "outputs": [],
   "source": [
    "response.current_link"
   ]
  },
  {
   "cell_type": "code",
   "execution_count": null,
   "metadata": {},
   "outputs": [],
   "source": [
    "len(sensors_df['path'].unique())"
   ]
  },
  {
   "cell_type": "code",
   "execution_count": null,
   "metadata": {},
   "outputs": [],
   "source": [
    "obs_df.head()"
   ]
  },
  {
   "cell_type": "code",
   "execution_count": null,
   "metadata": {
    "scrolled": false
   },
   "outputs": [],
   "source": [
    "import ipywidgets as widgets\n",
    "from ipywidgets import interact, interact_manual\n",
    "\n",
    "sensors = client.list_sensors()\n",
    "sensors_df = pd.DataFrame(sensors.data)\n",
    "sensors_df.head()\n",
    "\n",
    "@interact_manual\n",
    "def choose_sensor(sensor=sensors_df['path'].unique()):\n",
    "    client = AotClient()\n",
    "    f = F('sensor', sensor)\n",
    "\n",
    "    response = client.list_observations(filters=f)\n",
    "    print('API call:', response.current_link)\n",
    "    pages = unpack_response(response, page_limit=5)\n",
    "    \n",
    "    if not pages:\n",
    "        print('No data found.')\n",
    "        return None\n",
    "    \n",
    "    obs_df = pd.DataFrame(pages)\n",
    "    obs_df = process_observations(obs_df)\n",
    "    print(obs_df.shape)\n",
    "    \n",
    "    return map(obs_df.drop_duplicates(['lon', 'lat']))"
   ]
  },
  {
   "cell_type": "markdown",
   "metadata": {
    "colab_type": "text",
    "id": "lE_CRluuy6yE"
   },
   "source": [
    "### Plotly"
   ]
  },
  {
   "cell_type": "code",
   "execution_count": null,
   "metadata": {
    "colab": {
     "base_uri": "https://localhost:8080/",
     "height": 402
    },
    "colab_type": "code",
    "id": "fVUKcwzuX01N",
    "outputId": "03e0e428-11fa-4c69-f36c-fd6cecf85d11"
   },
   "outputs": [],
   "source": [
    "# initial configuration\n",
    "import plotly\n",
    "from os import getenv\n",
    "from dotenv import load_dotenv\n",
    "\n",
    "load_dotenv()\n",
    "\n",
    "plotly.tools.set_credentials_file(\n",
    "    username=getenv('PLOTLY_USER'), \n",
    "    api_key=getenv('PLOTLY_API_KEY')\n",
    ")"
   ]
  },
  {
   "cell_type": "code",
   "execution_count": null,
   "metadata": {},
   "outputs": [],
   "source": [
    "# exploring plots\n",
    "import plotly.plotly as py\n",
    "import plotly.graph_objs as go\n",
    "from IPython.display import IFrame\n",
    "\n",
    "trace0 = go.Scatter(\n",
    "    x=[1, 2, 3, 4],\n",
    "    y=[10, 15, 13, 17]\n",
    ")\n",
    "trace1 = go.Scatter(\n",
    "    x=[1, 2, 3, 4],\n",
    "    y=[16, 5, 11, 9]\n",
    ")\n",
    "data = [trace0, trace1]\n",
    "\n",
    "plot_url = py.plot(data, filename = 'basic-line', auto_open=False)\n",
    "IFrame(src=plot_url, width=\"100%\", height=\"600px\", frameBorder=\"0\")"
   ]
  },
  {
   "cell_type": "code",
   "execution_count": null,
   "metadata": {},
   "outputs": [],
   "source": [
    "import pandas as pd\n",
    "SENSOR_DF = pd.read_csv('data/sensor_mapping.csv')"
   ]
  },
  {
   "cell_type": "code",
   "execution_count": null,
   "metadata": {
    "scrolled": true
   },
   "outputs": [],
   "source": [
    "SENSOR_DF.groupby('sensor_type')['sensor_measure'].unique().to_dict()"
   ]
  },
  {
   "cell_type": "code",
   "execution_count": null,
   "metadata": {},
   "outputs": [],
   "source": [
    "def query_aot(sensor_hrf, size_per_page=100000, page_limit=1, mins_ago=12*60):\n",
    "    sensor = SENSOR_DF.loc[SENSOR_DF['sensor_measure']==sensor_hrf, \n",
    "                           'sensor_path'].values[0]\n",
    "\n",
    "    client = AotClient()\n",
    "\n",
    "    f = F('size', str(size_per_page))\n",
    "    f &= ('sensor', sensor)\n",
    "    f &= ('timestamp', 'ge', time_x_mins_ago(mins_ago))\n",
    "\n",
    "    response = client.list_observations(filters=f)\n",
    "    pages = unpack_response(response, page_limit=page_limit)\n",
    "    obs_df = pd.DataFrame(pages)\n",
    "    obs_df = process_observations(obs_df)\n",
    "    \n",
    "    return obs_df"
   ]
  },
  {
   "cell_type": "code",
   "execution_count": null,
   "metadata": {},
   "outputs": [],
   "source": [
    "df = query_aot('Carbon Monoxide')"
   ]
  },
  {
   "cell_type": "markdown",
   "metadata": {},
   "source": [
    "## Import data from AoT Archive"
   ]
  },
  {
   "cell_type": "code",
   "execution_count": 1,
   "metadata": {},
   "outputs": [],
   "source": [
    "import pandas as pd"
   ]
  },
  {
   "cell_type": "code",
   "execution_count": 3,
   "metadata": {},
   "outputs": [],
   "source": [
    "from app.aot import load_aot_archive_day, clean_aot_archive_obs"
   ]
  },
  {
   "cell_type": "code",
   "execution_count": 4,
   "metadata": {},
   "outputs": [
    {
     "name": "stderr",
     "output_type": "stream",
     "text": [
      "C:\\Users\\City_Year\\GitHub\\chicago-array-build-ds\\app\\aot.py:122: SettingWithCopyWarning:\n",
      "\n",
      "\n",
      "A value is trying to be set on a copy of a slice from a DataFrame.\n",
      "Try using .loc[row_indexer,col_indexer] = value instead\n",
      "\n",
      "See the caveats in the documentation: http://pandas.pydata.org/pandas-docs/stable/indexing.html#indexing-view-versus-copy\n",
      "\n"
     ]
    }
   ],
   "source": [
    "df = load_aot_archive_day(day='2019-05-14')\n",
    "df = clean_aot_archive_obs(df)"
   ]
  },
  {
   "cell_type": "code",
   "execution_count": 15,
   "metadata": {},
   "outputs": [],
   "source": [
    "df.to_sql?"
   ]
  },
  {
   "cell_type": "code",
   "execution_count": 26,
   "metadata": {},
   "outputs": [],
   "source": [
    "df['id'] = list(range(max_id + 1, max_id + len(df) + 1))"
   ]
  },
  {
   "cell_type": "code",
   "execution_count": 29,
   "metadata": {},
   "outputs": [],
   "source": [
    "df = load_aot_archive_day(day='2019-05-14')"
   ]
  },
  {
   "cell_type": "code",
   "execution_count": 31,
   "metadata": {},
   "outputs": [
    {
     "data": {
      "text/plain": [
       "array(['001e0610bc12', '001e061144d6', '001e0610ba46', '001e0610e835',\n",
       "       '001e0610eef2', '001e06118295', '001e061130f4', '001e06113cf1',\n",
       "       '001e06113d22', '001e0611462f', '001e0610ef27', '001e06112e77',\n",
       "       '001e061146bc', '001e0610e537', '001e0610ee36', '001e0610bc10',\n",
       "       '001e06113d78', '001e0611536c', '001e0610ee5d', '001e0610fb4c',\n",
       "       '001e06113ace', '001e061146cb', '001e06109401', '001e0610ba15',\n",
       "       '001e06113a24', '001e06114fd4', '001e0610ee33', '001e06113107',\n",
       "       '001e0611537d', '001e0610bbf9', '001e0610f05c', '001e06113ad8',\n",
       "       '001e061146ba', '001e0610ba16', '001e0610ee43'], dtype=object)"
      ]
     },
     "execution_count": 31,
     "metadata": {},
     "output_type": "execute_result"
    }
   ],
   "source": [
    "df['node_id'].unique()"
   ]
  },
  {
   "cell_type": "code",
   "execution_count": 33,
   "metadata": {},
   "outputs": [],
   "source": [
    "df = clean_aot_archive_obs(df)"
   ]
  },
  {
   "cell_type": "code",
   "execution_count": 35,
   "metadata": {},
   "outputs": [
    {
     "data": {
      "text/plain": [
       "array(['001e06109401', '001e0610ba15', '001e0610ba16', '001e0610ba46',\n",
       "       '001e0610bbf9', '001e0610bc10', '001e0610bc12', '001e0610e537',\n",
       "       '001e0610e835', '001e0610ee33', '001e0610ee36', '001e0610ee43',\n",
       "       '001e0610ee5d', '001e0610eef2', '001e0610ef27', '001e0610f05c',\n",
       "       '001e0610fb4c', '001e06112e77', '001e061130f4', '001e06113107',\n",
       "       '001e06113a24', '001e06113ace', '001e06113ad8', '001e06113cf1',\n",
       "       '001e06113d22', '001e06113d78', '001e061144d6', '001e0611462f',\n",
       "       '001e061146ba', '001e061146bc', '001e061146cb', '001e06114fd4',\n",
       "       '001e0611536c', '001e0611537d', '001e06118295'], dtype=object)"
      ]
     },
     "execution_count": 35,
     "metadata": {},
     "output_type": "execute_result"
    }
   ],
   "source": [
    "df['node_id'].unique()"
   ]
  }
 ],
 "metadata": {
  "colab": {
   "include_colab_link": true,
   "name": "WalkieTalkie ",
   "provenance": [],
   "version": "0.3.2"
  },
  "kernelspec": {
   "display_name": "chicago-aot-env",
   "language": "python",
   "name": "chicago-aot-env"
  },
  "language_info": {
   "codemirror_mode": {
    "name": "ipython",
    "version": 3
   },
   "file_extension": ".py",
   "mimetype": "text/x-python",
   "name": "python",
   "nbconvert_exporter": "python",
   "pygments_lexer": "ipython3",
   "version": "3.6.4"
  }
 },
 "nbformat": 4,
 "nbformat_minor": 1
}
